{
 "cells": [
  {
   "cell_type": "markdown",
   "id": "b9d92227",
   "metadata": {},
   "source": [
    "Files, exceptional handling, logging and\n",
    "memory management practicle Questions "
   ]
  },
  {
   "cell_type": "code",
   "execution_count": 2,
   "id": "60996a6f",
   "metadata": {},
   "outputs": [],
   "source": [
    "#Q1. How can you open a file for writing in Python and write a string to it?\n",
    "\n",
    "with open('output.txt', 'w') as file:\n",
    "    file.write(\"Hello, world!\")\n"
   ]
  },
  {
   "cell_type": "code",
   "execution_count": null,
   "id": "67e82b5b",
   "metadata": {},
   "outputs": [],
   "source": [
    "#Q2.Write a Python program to read the contents of a file and print each line?\n",
    "\n",
    "with open('input.txt', 'r') as file:\n",
    "    for line in file:\n",
    "        print(line.strip())\n"
   ]
  },
  {
   "cell_type": "code",
   "execution_count": 1,
   "id": "38f27dda",
   "metadata": {},
   "outputs": [
    {
     "name": "stdout",
     "output_type": "stream",
     "text": [
      "File not found.\n"
     ]
    }
   ],
   "source": [
    "# Q3.How would you handle a case where the file doesn't exist while trying to open it for reading?\n",
    "try:\n",
    "    with open(\"nonexistent.txt\", \"r\") as file:\n",
    "        print(file.read())\n",
    "except FileNotFoundError:\n",
    "    print(\"File not found.\")\n"
   ]
  },
  {
   "cell_type": "code",
   "execution_count": null,
   "id": "e1616961",
   "metadata": {},
   "outputs": [],
   "source": [
    "# Q4.  Write a Python script that reads from one file and writes its content to another file?\n",
    "\n",
    "with open(\"source.txt\", \"r\") as src, open(\"destination.txt\", \"w\") as dest:\n",
    "    dest.write(src.read())\n"
   ]
  },
  {
   "cell_type": "code",
   "execution_count": 3,
   "id": "818f5ce5",
   "metadata": {},
   "outputs": [
    {
     "name": "stdout",
     "output_type": "stream",
     "text": [
      "Cannot divide by zero.\n"
     ]
    }
   ],
   "source": [
    "# Q5.How would you catch and handle division by zero error in Python?\n",
    "\n",
    "try:\n",
    "    result = 10 / 0\n",
    "except ZeroDivisionError:\n",
    "    print(\"Cannot divide by zero.\")\n"
   ]
  },
  {
   "cell_type": "code",
   "execution_count": 4,
   "id": "562e8e8c",
   "metadata": {},
   "outputs": [],
   "source": [
    "# Q6.Write a Python program that logs an error message to a log file when a division by zero exception occurs?\n",
    "\n",
    "import logging\n",
    "\n",
    "logging.basicConfig(filename=\"errors.log\", level=logging.ERROR)\n",
    "\n",
    "try:\n",
    "    result = 10 / 0\n",
    "except ZeroDivisionError as e:\n",
    "    logging.error(f\"Division by zero error: {e}\")\n"
   ]
  },
  {
   "cell_type": "code",
   "execution_count": 5,
   "id": "e74628e5",
   "metadata": {},
   "outputs": [],
   "source": [
    "# Q7.How do you log information at different levels (INFO, ERROR, WARNING) in Python using the logging module\n",
    "\n",
    "import logging\n",
    "\n",
    "logging.basicConfig(level=logging.DEBUG)\n",
    "logging.info(\"This is an info message.\")\n",
    "logging.warning(\"This is a warning message.\")\n",
    "logging.error(\"This is an error message.\")\n"
   ]
  },
  {
   "cell_type": "code",
   "execution_count": 6,
   "id": "5e42bf8f",
   "metadata": {},
   "outputs": [
    {
     "name": "stdout",
     "output_type": "stream",
     "text": [
      "File not found.\n"
     ]
    }
   ],
   "source": [
    "# Q8. Write a program to handle a file opening error using exception handling?\n",
    "\n",
    "try:\n",
    "    with open(\"somefile.txt\", \"r\") as file:\n",
    "        print(file.read())\n",
    "except FileNotFoundError:\n",
    "    print(\"File not found.\")\n",
    "\n"
   ]
  },
  {
   "cell_type": "code",
   "execution_count": 23,
   "id": "a4e5d450",
   "metadata": {},
   "outputs": [
    {
     "name": "stdout",
     "output_type": "stream",
     "text": [
      "['New line to append.\\n']\n"
     ]
    }
   ],
   "source": [
    "# Q9. How can you read a file line by line and store its content in a list in Python?\n",
    "\n",
    "with open(\"example.txt\", \"r\") as file:\n",
    "    lines = file.readlines()\n",
    "print(lines)"
   ]
  },
  {
   "cell_type": "code",
   "execution_count": 8,
   "id": "adfc4998",
   "metadata": {},
   "outputs": [],
   "source": [
    "# Q10  How can you append data to an existing file in Python?\n",
    "\n",
    "with open(\"example.txt\", \"a\") as file:\n",
    "    file.write(\"New line to append.\\n\")\n",
    "\n",
    "\n"
   ]
  },
  {
   "cell_type": "code",
   "execution_count": 9,
   "id": "2c5df182",
   "metadata": {},
   "outputs": [
    {
     "name": "stdout",
     "output_type": "stream",
     "text": [
      "Key not found.\n"
     ]
    }
   ],
   "source": [
    "# Q11.Write a Python program that uses a try-except block to handle an error when attempting to access a dictionary key that doesn't exist?\n",
    "\n",
    "data = {\"name\": \"Alice\"}\n",
    "try:\n",
    "    print(data[\"age\"])\n",
    "except KeyError:\n",
    "    print(\"Key not found.\")\n",
    "\n",
    "\n"
   ]
  },
  {
   "cell_type": "code",
   "execution_count": 10,
   "id": "267d89b0",
   "metadata": {},
   "outputs": [
    {
     "name": "stdout",
     "output_type": "stream",
     "text": [
      "Index out of range.\n"
     ]
    }
   ],
   "source": [
    "# Q12.  Write a program that demonstrates using multiple except blocks to handle different types of exceptions?\n",
    "\n",
    "try:\n",
    "    my_list = [1, 2]\n",
    "    print(my_list[5])\n",
    "except IndexError:\n",
    "    print(\"Index out of range.\")\n",
    "except KeyError:\n",
    "    print(\"Key not found.\")\n",
    "\n"
   ]
  },
  {
   "cell_type": "code",
   "execution_count": 11,
   "id": "77af4e8d",
   "metadata": {},
   "outputs": [
    {
     "name": "stdout",
     "output_type": "stream",
     "text": [
      "New line to append.\n",
      "\n"
     ]
    }
   ],
   "source": [
    "# Q13 How would you check if a file exists before attempting to read it in Python\n",
    "\n",
    "import os\n",
    "\n",
    "if os.path.exists(\"example.txt\"):\n",
    "    with open(\"example.txt\") as file:\n",
    "        print(file.read())\n",
    "else:\n",
    "    print(\"File does not exist.\")\n",
    "\n"
   ]
  },
  {
   "cell_type": "code",
   "execution_count": 12,
   "id": "c68d7d8a",
   "metadata": {},
   "outputs": [],
   "source": [
    "# Q14 Write a program that uses the logging module to log both informational and error messages?\n",
    "\n",
    "import logging\n",
    "\n",
    "logging.basicConfig(filename=\"app.log\", level=logging.DEBUG)\n",
    "logging.info(\"This is an info message.\")\n",
    "try:\n",
    "    1 / 0\n",
    "except ZeroDivisionError:\n",
    "    logging.error(\"Attempted division by zero.\")\n",
    "\n",
    "\n"
   ]
  },
  {
   "cell_type": "code",
   "execution_count": 13,
   "id": "58dbac51",
   "metadata": {},
   "outputs": [
    {
     "name": "stdout",
     "output_type": "stream",
     "text": [
      "New line to append.\n",
      "\n"
     ]
    }
   ],
   "source": [
    "# Q15.  Write a Python program that prints the content of a file and handles the case when the file is empty?\n",
    "\n",
    "with open(\"example.txt\", \"r\") as file:\n",
    "    content = file.read()\n",
    "    if not content:\n",
    "        print(\"The file is empty.\")\n",
    "    else:\n",
    "        print(content)\n",
    "\n",
    "\n"
   ]
  },
  {
   "cell_type": "code",
   "execution_count": 15,
   "id": "f2452778",
   "metadata": {},
   "outputs": [
    {
     "name": "stdout",
     "output_type": "stream",
     "text": [
      "ERROR: Could not find file C:\\Users\\DELL\\AppData\\Local\\Temp\\ipykernel_1432\\3666764634.py\n"
     ]
    },
    {
     "data": {
      "text/plain": [
       "4999950000"
      ]
     },
     "execution_count": 15,
     "metadata": {},
     "output_type": "execute_result"
    }
   ],
   "source": [
    "# Q16.  Demonstrate how to use memory profiling to check the memory usage of a small program?\n",
    "\n",
    "from memory_profiler import profile\n",
    "\n",
    "@profile\n",
    "def my_func():\n",
    "    data = [i for i in range(100000)]\n",
    "    return sum(data)\n",
    "\n",
    "my_func()\n",
    "\n",
    "\n"
   ]
  },
  {
   "cell_type": "code",
   "execution_count": 16,
   "id": "54fa887b",
   "metadata": {},
   "outputs": [],
   "source": [
    "#Q 17. Write a Python program to create and write a list of numbers to a file, one number per line?\n",
    "\n",
    "numbers = [1, 2, 3, 4, 5]\n",
    "with open(\"numbers.txt\", \"w\") as file:\n",
    "    for num in numbers:\n",
    "        file.write(f\"{num}\\n\")\n",
    "\n",
    "\n"
   ]
  },
  {
   "cell_type": "code",
   "execution_count": 17,
   "id": "67156c27",
   "metadata": {},
   "outputs": [],
   "source": [
    "#Q 18. How would you implement a basic logging setup that logs to a file with rotation after 1MB?\n",
    "\n",
    "import logging\n",
    "from logging.handlers import RotatingFileHandler\n",
    "\n",
    "handler = RotatingFileHandler(\"app.log\", maxBytes=1_000_000, backupCount=3)\n",
    "logging.basicConfig(handlers=[handler], level=logging.INFO)\n",
    "\n",
    "logging.info(\"This is a log entry.\")\n",
    "\n",
    "\n"
   ]
  },
  {
   "cell_type": "code",
   "execution_count": 18,
   "id": "76687563",
   "metadata": {},
   "outputs": [
    {
     "name": "stdout",
     "output_type": "stream",
     "text": [
      "List index out of range.\n"
     ]
    }
   ],
   "source": [
    "# Q19. Write a program that handles both IndexError and KeyError using a try-except block?\n",
    "\n",
    "try:\n",
    "    my_list = [1, 2]\n",
    "    print(my_list[5])\n",
    "    data = {\"name\": \"Alice\"}\n",
    "    print(data[\"age\"])\n",
    "except IndexError:\n",
    "    print(\"List index out of range.\")\n",
    "except KeyError:\n",
    "    print(\"Key not found in dictionary.\")\n",
    "\n",
    "\n"
   ]
  },
  {
   "cell_type": "code",
   "execution_count": 19,
   "id": "ea919b1f",
   "metadata": {},
   "outputs": [
    {
     "name": "stdout",
     "output_type": "stream",
     "text": [
      "New line to append.\n",
      "\n"
     ]
    }
   ],
   "source": [
    "#Q 20.How would you open a file and read its contents using a context manager in Python?\n",
    "\n",
    "with open(\"example.txt\", \"r\") as file:\n",
    "    contents = file.read()\n",
    "    print(contents)\n",
    "\n",
    "\n"
   ]
  },
  {
   "cell_type": "code",
   "execution_count": 20,
   "id": "8fddb95e",
   "metadata": {},
   "outputs": [
    {
     "name": "stdout",
     "output_type": "stream",
     "text": [
      "The word 'example' occurred 0 times.\n"
     ]
    }
   ],
   "source": [
    "#Q21.Write a Python program that reads a file and prints the number of occurrences of a specific word?\n",
    "\n",
    "word_to_count = \"example\"\n",
    "count = 0\n",
    "with open(\"example.txt\", \"r\") as file:\n",
    "    for line in file:\n",
    "        count += line.lower().count(word_to_count.lower())\n",
    "print(f\"The word '{word_to_count}' occurred {count} times.\")\n",
    "\n",
    "\n"
   ]
  },
  {
   "cell_type": "code",
   "execution_count": 21,
   "id": "138d30e7",
   "metadata": {},
   "outputs": [
    {
     "name": "stdout",
     "output_type": "stream",
     "text": [
      "New line to append.\n",
      "\n"
     ]
    }
   ],
   "source": [
    "#Q22.ow can you check if a file is empty before attempting to read its contents?\n",
    "\n",
    "import os\n",
    "\n",
    "if os.path.getsize(\"example.txt\") == 0:\n",
    "    print(\"File is empty.\")\n",
    "else:\n",
    "    with open(\"example.txt\") as file:\n",
    "        print(file.read())\n",
    "\n",
    "\n"
   ]
  },
  {
   "cell_type": "code",
   "execution_count": 22,
   "id": "a3b075c1",
   "metadata": {},
   "outputs": [],
   "source": [
    "#Q23 Write a Python program that writes to a log file when an error occurs during file handling?\n",
    "\n",
    "import logging\n",
    "\n",
    "logging.basicConfig(filename=\"file_errors.log\", level=logging.ERROR)\n",
    "\n",
    "try:\n",
    "    with open(\"missing.txt\", \"r\") as file:\n",
    "        content = file.read()\n",
    "except Exception as e:\n",
    "    logging.error(f\"Error reading file: {e}\")\n"
   ]
  },
  {
   "cell_type": "code",
   "execution_count": null,
   "id": "078909b7",
   "metadata": {},
   "outputs": [],
   "source": []
  }
 ],
 "metadata": {
  "kernelspec": {
   "display_name": "Python 3",
   "language": "python",
   "name": "python3"
  },
  "language_info": {
   "codemirror_mode": {
    "name": "ipython",
    "version": 3
   },
   "file_extension": ".py",
   "mimetype": "text/x-python",
   "name": "python",
   "nbconvert_exporter": "python",
   "pygments_lexer": "ipython3",
   "version": "3.13.2"
  }
 },
 "nbformat": 4,
 "nbformat_minor": 5
}
